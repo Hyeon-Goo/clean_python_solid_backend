{
 "cells": [
  {
   "cell_type": "markdown",
   "metadata": {
    "collapsed": true,
    "pycharm": {
     "name": "#%% md\n"
    }
   },
   "source": [
    "AWS 는 아마존에서 제공하는 클라우드 서비스임.\n",
    "\n",
    "여러 다양한 서비스들을 제공하는데, 리눅스 서버부터 DB, 네트워크, AI 서비스까지 다양한 서비스들이 있음.\n",
    "\n",
    "AWS 에서 MySQL DB를 등록하고, 우분투 서버 2대에 미니터 API를 배포하고, 그 앞에 load balancer를 붙이는 구조로책에서는 예시를 제공한다.\n",
    "\n",
    "일단, 실물로 만들어보기는 좀 무리니까... 내용만 노트북에 요약할 예정."
   ]
  },
  {
   "cell_type": "markdown",
   "source": [
    "load balancer 라 함은 이미 잘 알고 있는 그 L4와 L3를 말함.\n",
    "\n",
    "이전 프로젝트에서 끔찍한 경험을 했으니.... 잘 알고 있다.\n"
   ],
   "metadata": {
    "collapsed": false,
    "pycharm": {
     "name": "#%% md\n"
    }
   }
  },
  {
   "cell_type": "markdown",
   "source": [
    "AWS RDS\n",
    "\n",
    "(Relational Database Service)\n",
    "\n",
    "AWS 에서 제공하는 RDB 서비스. 직접 DB를 설치하고 운영할 필요 없이 이걸 사용하면 된다."
   ],
   "metadata": {
    "collapsed": false,
    "pycharm": {
     "name": "#%% md\n"
    }
   }
  },
  {
   "cell_type": "markdown",
   "source": [
    "AWS EC2\n",
    "\n",
    "AWS 에서 사용하는 서버. 여기에 API 를 배포하면 됨.\n",
    "\n",
    "운영체제도 redhat 계열이건, ubuntu 건 심지어 윈도우건 모두 지원함.\n",
    "\n",
    "t2_micro 는 무료 티어에 해당하는 서버. 가장 낮은 사양이지만, 연습용으로는 나쁘지 않다.\n",
    "\n"
   ],
   "metadata": {
    "collapsed": false
   }
  }
 ],
 "metadata": {
  "kernelspec": {
   "display_name": "Python 3",
   "language": "python",
   "name": "python3"
  },
  "language_info": {
   "codemirror_mode": {
    "name": "ipython",
    "version": 2
   },
   "file_extension": ".py",
   "mimetype": "text/x-python",
   "name": "python",
   "nbconvert_exporter": "python",
   "pygments_lexer": "ipython2",
   "version": "2.7.6"
  }
 },
 "nbformat": 4,
 "nbformat_minor": 0
}